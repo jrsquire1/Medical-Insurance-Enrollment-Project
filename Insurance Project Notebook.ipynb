{
 "cells": [
  {
   "cell_type": "markdown",
   "id": "9b6c8f8c",
   "metadata": {},
   "source": [
    "#### NAME: \n",
    "Joe (Joseph) Squire\n",
    "#### ANSWERS\n",
    "1. 3105 rows\n",
    "2. 33 unique values"
   ]
  },
  {
   "cell_type": "markdown",
   "id": "eeb9e1a7",
   "metadata": {},
   "source": [
    "# Load Libraries"
   ]
  },
  {
   "cell_type": "code",
   "execution_count": null,
   "id": "ed2be4fc",
   "metadata": {},
   "outputs": [],
   "source": [
    "import boto3\n",
    "import pandas as pd"
   ]
  },
  {
   "cell_type": "markdown",
   "id": "828517f4",
   "metadata": {},
   "source": [
    "# Access & Download files locally"
   ]
  },
  {
   "cell_type": "code",
   "execution_count": null,
   "id": "9a1b6e61",
   "metadata": {},
   "outputs": [],
   "source": [
    "# Create an S3 client\n",
    "session = boto3.Session(profile_name='squirejr')\n",
    "s3 = session.client('s3')"
   ]
  },
  {
   "cell_type": "markdown",
   "id": "d30a5931",
   "metadata": {},
   "source": [
    "## Step 1 Data Transformation\n",
    "Objective: transform dataset from patient_id x month_year granulatriy to patient_id x enrollment_start_date x enrollment_end_date"
   ]
  },
  {
   "cell_type": "code",
   "execution_count": null,
   "id": "0a010345",
   "metadata": {
    "scrolled": true
   },
   "outputs": [],
   "source": [
    "# Download patient_id_month_year.csv\n",
    "bucket_name = 'waymark-assignment'\n",
    "s3_file_key = 'patient_id_month_year.csv'\n",
    "local_file_path = 'patient_id_month_year.csv'\n",
    "\n",
    "s3.download_file(bucket_name, s3_file_key, local_file_path)"
   ]
  },
  {
   "cell_type": "markdown",
   "id": "9d6b4d3a",
   "metadata": {},
   "source": [
    "### Load & Explore the data"
   ]
  },
  {
   "cell_type": "code",
   "execution_count": null,
   "id": "9effac6d",
   "metadata": {
    "scrolled": true
   },
   "outputs": [],
   "source": [
    "# Reading in CSV\n",
    "# Defined dtypes since pd was throwing an warning of mixed dtypes in cols\n",
    "# Defined what columns to use since pd was bringing in multiple empty columns\n",
    "df = pd.read_csv('patient_id_month_year.csv', dtype={0: str, 1: str}, usecols=[0, 1])"
   ]
  },
  {
   "cell_type": "code",
   "execution_count": null,
   "id": "c55bed3e",
   "metadata": {
    "scrolled": true
   },
   "outputs": [],
   "source": [
    "#See initial layout of dataframe\n",
    "print(df.head())\n",
    "print(df.head())\n",
    "print(df.info())"
   ]
  },
  {
   "cell_type": "code",
   "execution_count": null,
   "id": "0e4e7b34",
   "metadata": {},
   "outputs": [],
   "source": [
    "#Convert month_year to date type\n",
    "df['month_year'] = pd.to_datetime(df['month_year'], format='%m/%d/%y')\n",
    "\n",
    "# Clean df\n",
    "# Remove rows where all cells in that row are NaN\n",
    "df = df.dropna(how='all')"
   ]
  },
  {
   "cell_type": "code",
   "execution_count": null,
   "id": "6fd6513d",
   "metadata": {
    "scrolled": false
   },
   "outputs": [],
   "source": [
    "#Reexamine imported df\n",
    "print(df.head())\n",
    "print(df.tail())\n",
    "print(df.info())"
   ]
  },
  {
   "cell_type": "code",
   "execution_count": null,
   "id": "5ea3e89a",
   "metadata": {
    "scrolled": true
   },
   "outputs": [],
   "source": [
    "# Checks to see if every patient has a single enrollment start and end date\n",
    "unique_counts = df['patient_id'].value_counts()\n",
    "\n",
    "print(unique_counts)\n",
    "\n",
    "# Output showing patients do not have continuous enrollment throughout the year\n",
    "# Will need to account for patient having multiple enrollment periods in transformation"
   ]
  },
  {
   "cell_type": "markdown",
   "id": "8cec8e6c",
   "metadata": {},
   "source": [
    "### Transform and group data"
   ]
  },
  {
   "cell_type": "code",
   "execution_count": null,
   "id": "95d2a153",
   "metadata": {},
   "outputs": [],
   "source": [
    "# Add enrollment start date column\n",
    "df['enrollment_start_date'] = df['month_year']\n",
    "\n",
    "# Add enrollment end date colum as last day of each month listed\n",
    "df['enrollment_end_date'] = df['month_year'] + pd.offsets.MonthEnd(1)"
   ]
  },
  {
   "cell_type": "code",
   "execution_count": null,
   "id": "67d79c4e",
   "metadata": {
    "scrolled": false
   },
   "outputs": [],
   "source": [
    "# Sort the dataframe for operations below (assumptions are largely be based on this sort)\n",
    "df = df.sort_values(by=['patient_id', 'enrollment_start_date'])\n",
    "\n",
    "# Prepare a list to collect dict from for loop\n",
    "rows_list = []\n",
    "\n",
    "# Loop through each row belonging to the same patient based on patient_id\n",
    "# Evaluates whether start date of a current row is +1 day from the last evaluated end date (i.e. they are consecutive)\n",
    "# If this is true, the enrollment period is extended \n",
    "# If this is not true, a row is added to the dict that includes patient_id, start and end dates\n",
    "for patient_id, group in df.groupby('patient_id'):\n",
    "    group = group.reset_index(drop=True)\n",
    "    start_date = group.at[0, 'enrollment_start_date']\n",
    "    end_date = group.at[0, 'enrollment_end_date']\n",
    "\n",
    "    for i in range(1, len(group)):\n",
    "        if group.at[i, 'enrollment_start_date'] == end_date + pd.Timedelta(days=1):\n",
    "            end_date = group.at[i, 'enrollment_end_date']\n",
    "        else:\n",
    "            rows_list.append({'patient_id': patient_id, 'enrollment_start_date': start_date, 'enrollment_end_date': end_date})\n",
    "            start_date = group.at[i, 'enrollment_start_date']\n",
    "            end_date = group.at[i, 'enrollment_end_date']\n",
    "\n",
    "    # Add the last range to the list\n",
    "    rows_list.append({'patient_id': patient_id, 'enrollment_start_date': start_date, 'enrollment_end_date': end_date})\n",
    "\n",
    "# Create a new dataframe from the list\n",
    "result_df = pd.DataFrame(rows_list)\n",
    "\n",
    "# Ensure the dates are in the correct format\n",
    "result_df['enrollment_start_date'] = pd.to_datetime(result_df['enrollment_start_date'], '%Y-%m-%d')\n",
    "result_df['enrollment_end_date'] = pd.to_datetime(result_df['enrollment_end_date'], '%Y-%m-%d')\n",
    "\n",
    "# Show the transformed DataFrame\n",
    "print(result_df)"
   ]
  },
  {
   "cell_type": "markdown",
   "id": "288a8314",
   "metadata": {},
   "source": [
    "### Write to CSV"
   ]
  },
  {
   "cell_type": "code",
   "execution_count": null,
   "id": "9e926786",
   "metadata": {},
   "outputs": [],
   "source": [
    "result_df.to_csv('patient_enrollment_span.csv')"
   ]
  },
  {
   "cell_type": "markdown",
   "id": "8f67e28a",
   "metadata": {},
   "source": [
    "### Answer 1\n",
    "Row Count: 3105"
   ]
  },
  {
   "cell_type": "markdown",
   "id": "8149db3e",
   "metadata": {},
   "source": [
    "## Step 2 Data Aggregation"
   ]
  },
  {
   "cell_type": "code",
   "execution_count": null,
   "id": "b0c040f4",
   "metadata": {},
   "outputs": [],
   "source": [
    "# Download outpatient_visits_file.csv\n",
    "bucket_name = 'waymark-assignment'\n",
    "s3_file_key = 'outpatient_visits_file.csv'\n",
    "local_file_path = 'outpatient_visits_file.csv'\n",
    "\n",
    "s3.download_file(bucket_name, s3_file_key, local_file_path)"
   ]
  },
  {
   "cell_type": "markdown",
   "id": "91bad210",
   "metadata": {},
   "source": [
    "### Load and Explore Data"
   ]
  },
  {
   "cell_type": "code",
   "execution_count": null,
   "id": "2b77d4e7",
   "metadata": {},
   "outputs": [],
   "source": [
    "# Reading in CSV\n",
    "# Defined dtypes since pd was throwing an warning of mixed dtypes in cols\n",
    "# Defined what columns to use since pd was bringing in multiple empty columns\n",
    "visits_df = pd.read_csv('outpatient_visits_file.csv', dtype={0: str, 1: str}, usecols=[0, 1, 2])"
   ]
  },
  {
   "cell_type": "code",
   "execution_count": null,
   "id": "bed6dbf9",
   "metadata": {
    "scrolled": true
   },
   "outputs": [],
   "source": [
    "# Quick exploratory view\n",
    "print(visits_df.head())\n",
    "print(visits_df.tail())\n",
    "print(visits_df.info())"
   ]
  },
  {
   "cell_type": "code",
   "execution_count": null,
   "id": "f735cb09",
   "metadata": {
    "scrolled": true
   },
   "outputs": [],
   "source": [
    "# Convert 'date' column to datetime format\n",
    "visits_df['date'] = pd.to_datetime(visits_df['date'], format = '%m/%d/%y')\n",
    "\n",
    "# Clean dataframe\n",
    "# Remove rows where all cells in that row are NaN\n",
    "visits_df = visits_df.dropna(how='all')"
   ]
  },
  {
   "cell_type": "code",
   "execution_count": null,
   "id": "69cd5e5e",
   "metadata": {
    "scrolled": true
   },
   "outputs": [],
   "source": [
    "# See initial layout of dataframe\n",
    "print(visits_df.head())\n",
    "print(visits_df.tail())\n",
    "print(visits_df.info())"
   ]
  },
  {
   "cell_type": "markdown",
   "id": "38286237",
   "metadata": {},
   "source": [
    "### Group data, summarize, & merge data"
   ]
  },
  {
   "cell_type": "code",
   "execution_count": null,
   "id": "60ca0076",
   "metadata": {},
   "outputs": [],
   "source": [
    "# Initialize the columns for counts\n",
    "result_df['ct_outpatient_visits'] = 0\n",
    "result_df['ct_days_with_outpatient_visit'] = 0\n",
    "\n",
    "# Iterate over each row in result_df to calculate the counts\n",
    "# Filter visits_df for visits that fall within the enrollment period for the current patient\n",
    "for idx, row in result_df.iterrows():\n",
    "    valid_visits = visits_df[(visits_df['patient_id'] == row['patient_id']) &\n",
    "                             (visits_df['date'] >= row['enrollment_start_date']) &\n",
    "                             (visits_df['date'] <= row['enrollment_end_date'])]\n",
    "    \n",
    "    # Sum the outpatient visits count\n",
    "    result_df.at[idx, 'ct_outpatient_visits'] = valid_visits['outpatient_visit_count'].sum()\n",
    "    \n",
    "    # Count distinct days with outpatient visits\n",
    "    result_df.at[idx, 'ct_days_with_outpatient_visit'] = valid_visits['date'].nunique()"
   ]
  },
  {
   "cell_type": "code",
   "execution_count": null,
   "id": "5e32ba32",
   "metadata": {
    "scrolled": false
   },
   "outputs": [],
   "source": [
    "# Quality check\n",
    "# Looking for the same number of rows as found in step 1 plus ensuring accurate dtypes\n",
    "result_df.info()"
   ]
  },
  {
   "cell_type": "markdown",
   "id": "f8df12ab",
   "metadata": {},
   "source": [
    "### Write to CSV"
   ]
  },
  {
   "cell_type": "code",
   "execution_count": null,
   "id": "514945ea",
   "metadata": {},
   "outputs": [],
   "source": [
    "# Write to CSV\n",
    "result_df.to_csv('result.csv')"
   ]
  },
  {
   "cell_type": "code",
   "execution_count": null,
   "id": "f022cf62",
   "metadata": {},
   "outputs": [],
   "source": [
    "# Counts number of unique values in ct_days_with_outpatient_visit\n",
    "unique_count = result_df['ct_days_with_outpatient_visit'].nunique()\n",
    "\n",
    "print(unique_count)"
   ]
  },
  {
   "cell_type": "markdown",
   "id": "1ef2f239",
   "metadata": {},
   "source": [
    "### Answer B\n",
    "Unique values in ct_days_with_outpatient_visit: 33"
   ]
  }
 ],
 "metadata": {
  "kernelspec": {
   "display_name": "Python 3 (ipykernel)",
   "language": "python",
   "name": "python3"
  },
  "language_info": {
   "codemirror_mode": {
    "name": "ipython",
    "version": 3
   },
   "file_extension": ".py",
   "mimetype": "text/x-python",
   "name": "python",
   "nbconvert_exporter": "python",
   "pygments_lexer": "ipython3",
   "version": "3.9.13"
  }
 },
 "nbformat": 4,
 "nbformat_minor": 5
}
